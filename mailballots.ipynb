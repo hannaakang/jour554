{
 "cells": [
  {
   "cell_type": "code",
   "execution_count": 10,
   "id": "5e9e01ab-772a-49ea-afe3-e75200a37102",
   "metadata": {},
   "outputs": [],
   "source": [
    "import pandas as pd\n",
    "\n",
    "url = 'https://electproject.github.io/Early-Vote-2020G/CA.html'"
   ]
  },
  {
   "cell_type": "markdown",
   "id": "ff81d93d-da29-4252-891b-431da046f08e",
   "metadata": {},
   "source": [
    "## Mail Ballots Returned and Accepted by Party Registration"
   ]
  },
  {
   "cell_type": "code",
   "execution_count": 11,
   "id": "ea909b91-cc42-48bc-bed2-fda620908a23",
   "metadata": {},
   "outputs": [
    {
     "data": {
      "text/plain": [
       "[                        Party  Returned Ballots  Freq. Distribution  \\\n",
       " 0                   Democrats           6157827                50.9   \n",
       " 1                 Republicans           2955528                24.4   \n",
       " 2  No Party Affiliation/Minor           2977358                24.6   \n",
       " 3                       TOTAL          12090534               100.0   \n",
       " \n",
       "    Requested Ballots  Return Rate  \n",
       " 0           10170982         60.5  \n",
       " 1            5344082         55.3  \n",
       " 2            6527198         45.6  \n",
       " 3           22042262         54.9  ]"
      ]
     },
     "execution_count": 11,
     "metadata": {},
     "output_type": "execute_result"
    }
   ],
   "source": [
    "pd.read_html(url)"
   ]
  },
  {
   "cell_type": "code",
   "execution_count": null,
   "id": "ba9b2d0b-33ff-4bd8-b9bb-762b04e179de",
   "metadata": {},
   "outputs": [],
   "source": []
  },
  {
   "cell_type": "code",
   "execution_count": null,
   "id": "16511e9f-15f0-4102-a67a-a6b53cb4e382",
   "metadata": {},
   "outputs": [],
   "source": []
  },
  {
   "cell_type": "code",
   "execution_count": null,
   "id": "ddcb060b-93c5-4b68-a970-59253327a49d",
   "metadata": {},
   "outputs": [],
   "source": []
  }
 ],
 "metadata": {
  "kernelspec": {
   "display_name": "Python 3",
   "language": "python",
   "name": "python3"
  },
  "language_info": {
   "codemirror_mode": {
    "name": "ipython",
    "version": 3
   },
   "file_extension": ".py",
   "mimetype": "text/x-python",
   "name": "python",
   "nbconvert_exporter": "python",
   "pygments_lexer": "ipython3",
   "version": "3.8.8"
  }
 },
 "nbformat": 4,
 "nbformat_minor": 5
}
